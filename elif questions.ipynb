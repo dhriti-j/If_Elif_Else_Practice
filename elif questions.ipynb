{
 "cells": [
  {
   "cell_type": "code",
   "execution_count": 11,
   "id": "c46f9760-6151-4eb7-ba2d-ec692f699134",
   "metadata": {},
   "outputs": [
    {
     "name": "stdin",
     "output_type": "stream",
     "text": [
      "Enter your marks:  99\n"
     ]
    },
    {
     "name": "stdout",
     "output_type": "stream",
     "text": [
      "A\n"
     ]
    }
   ],
   "source": [
    "#Grading System\n",
    "\n",
    "m= int(input(\"Enter your marks: \"))\n",
    "\n",
    "if m >=90:\n",
    "    print(\"A\")\n",
    "\n",
    "elif m >=75 and m<90:\n",
    "    print(\"B\")\n",
    "\n",
    "elif m>= 50 and m<75:\n",
    "    print(\"C\")\n",
    "\n",
    "elif m<50:\n",
    "    print(\"D\")\n",
    "    "
   ]
  },
  {
   "cell_type": "code",
   "execution_count": 5,
   "id": "3c9c9299-8a33-4e83-aed2-c2a387a48a0d",
   "metadata": {},
   "outputs": [
    {
     "name": "stdin",
     "output_type": "stream",
     "text": [
      "Enter an integer:  -9\n"
     ]
    },
    {
     "name": "stdout",
     "output_type": "stream",
     "text": [
      "Negative\n"
     ]
    }
   ],
   "source": [
    "#Number sign check\n",
    "\n",
    "x= int(input(\"Enter an integer: \"))\n",
    "\n",
    "if x>0:\n",
    "    print(\"Positive\")\n",
    "elif x <0:\n",
    "    print(\"Negative\")\n",
    "else:\n",
    "    print(\"Zero\")"
   ]
  },
  {
   "cell_type": "code",
   "execution_count": 7,
   "id": "d0a3942e-f6f1-4995-956d-49f36310b861",
   "metadata": {},
   "outputs": [
    {
     "name": "stdin",
     "output_type": "stream",
     "text": [
      "Enter a number between 1-7:  4\n"
     ]
    },
    {
     "name": "stdout",
     "output_type": "stream",
     "text": [
      "Thursday\n"
     ]
    }
   ],
   "source": [
    "#Day of the week\n",
    "\n",
    "w= int(input(\"Enter a number between 1-7: \"))\n",
    "\n",
    "if w==1:\n",
    "    print(\"Monday\")\n",
    "\n",
    "elif w==2:\n",
    "    print(\"Tuesday\")\n",
    "\n",
    "elif w==3:\n",
    "    print(\"Wednesday\")\n",
    "\n",
    "elif w==4:\n",
    "    print(\"Thursday\")\n",
    "\n",
    "elif w==5:\n",
    "    print(\"Friday\")\n",
    "\n",
    "elif w==6:\n",
    "    print(\"Saturday\")\n",
    "\n",
    "elif w==7:\n",
    "    print(\"Sunday\")\n",
    "else:\n",
    "    print(\"Oops! Wrong number entered.\")\n",
    "\n",
    "    "
   ]
  },
  {
   "cell_type": "code",
   "execution_count": 1,
   "id": "e68f6bc8-877b-481c-bf8f-63ebcc59526f",
   "metadata": {},
   "outputs": [
    {
     "name": "stdin",
     "output_type": "stream",
     "text": [
      "Enter your age:  34\n"
     ]
    },
    {
     "name": "stdout",
     "output_type": "stream",
     "text": [
      "Price=250\n"
     ]
    }
   ],
   "source": [
    "#Ticket Price Based on Age\n",
    "\n",
    "age= int(input(\"Enter your age: \"))\n",
    "\n",
    "if age>=60:\n",
    "    print(\"Price=120\")\n",
    "elif age >=18:\n",
    "    print(\"Price=250\")\n",
    "elif age>=12:\n",
    "    print(\"Price=150\")\n",
    "else:\n",
    "    print(\"Price=100\")\n",
    "\n",
    "    "
   ]
  },
  {
   "cell_type": "code",
   "execution_count": 3,
   "id": "caeab254-46f3-4e3e-8a99-439de55ee3fc",
   "metadata": {},
   "outputs": [
    {
     "name": "stdin",
     "output_type": "stream",
     "text": [
      "Enter an integer:  4\n",
      "Enter another integer:  7\n",
      "Enter an operator(+,-,*,/):  +\n"
     ]
    },
    {
     "name": "stdout",
     "output_type": "stream",
     "text": [
      "11\n"
     ]
    }
   ],
   "source": [
    "#Calculator with 4 operations\n",
    "\n",
    "no1=int(input(\"Enter an integer: \"))\n",
    "no2= int(input(\"Enter another integer: \"))\n",
    "op= input(\"Enter an operator(+,-,*,/): \")\n",
    "\n",
    "if op== \"+\":\n",
    "    print(no1+no2)\n",
    "\n",
    "elif op== \"-\":\n",
    "    print(no1-no2)\n",
    "elif op ==\"*\":\n",
    "    print(no1*no2)\n",
    "\n",
    "elif op==\"/\":\n",
    "    print(no1/no2)\n",
    "\n",
    "else:\n",
    "    print(\"Oops!Wrong input.\")"
   ]
  },
  {
   "cell_type": "code",
   "execution_count": null,
   "id": "8e99326d-d17e-4c8a-8218-5e16692010f7",
   "metadata": {},
   "outputs": [],
   "source": [
    "#Calculator with 4 operations(Menu style)\n",
    "\n",
    "no1=int(input(\"Enter an integer: \"))\n",
    "no2= int(input(\"Enter another integer: \"))\n",
    "print(\"Press 1 for +\")\n",
    "print(\"Press 2 for -\")\n",
    "print(\"Press 3 for *\")\n",
    "print(\"Press 4 for /\")\n",
    "op= int(input(\"Enter your choice: \"))\n",
    "\n",
    "if op== 1:\n",
    "    print(no1+no2)\n",
    "\n",
    "elif op== 2:\n",
    "    print(no1-no2)\n",
    "elif op == 3:\n",
    "    print(no1*no2)\n",
    "\n",
    "elif op== 4 :\n",
    "    print(no1/no2)\n",
    "\n",
    "else:\n",
    "    print(\"Oops!Wrong input.\")"
   ]
  },
  {
   "cell_type": "code",
   "execution_count": 9,
   "id": "195130af-3f7f-4087-aa79-97fdaaf199d4",
   "metadata": {},
   "outputs": [
    {
     "name": "stdin",
     "output_type": "stream",
     "text": [
      "Enter a color from following(Red/Yellow/Green):  red\n"
     ]
    },
    {
     "name": "stdout",
     "output_type": "stream",
     "text": [
      "STOP!\n"
     ]
    }
   ],
   "source": [
    "#Traffic Light System\n",
    "\n",
    "c= input(\"Enter a color from following(Red/Yellow/Green): \")\n",
    "\n",
    "if c.lower() ==\"red\":\n",
    "    print(\"STOP!\")\n",
    "\n",
    "elif c.lower() ==\"yellow\":\n",
    "    print(\"Get ready\")\n",
    "\n",
    "elif c.lower() ==\"green\":\n",
    "    print(\"GO!\")\n",
    "    "
   ]
  },
  {
   "cell_type": "code",
   "execution_count": 14,
   "id": "52e9adba-9502-4158-b129-e8109fddbd35",
   "metadata": {},
   "outputs": [
    {
     "name": "stdin",
     "output_type": "stream",
     "text": [
      "Enter 1st integer:  45\n",
      "Enter 2nd integer:  45\n",
      "Enter 3rd integer:  45\n"
     ]
    },
    {
     "name": "stdout",
     "output_type": "stream",
     "text": [
      "45 is the greatest number\n"
     ]
    }
   ],
   "source": [
    "#Largest Number\n",
    "\n",
    "a= int(input(\"Enter 1st integer: \"))\n",
    "b= int(input(\"Enter 2nd integer: \"))\n",
    "c= int(input(\"Enter 3rd integer: \"))\n",
    "\n",
    "if a>b:\n",
    "    if c>a:\n",
    "        print(c,\"is the greatest number\")\n",
    "    else:\n",
    "        print(a,\"is the greatest number\")\n",
    "\n",
    "else:\n",
    "    if c>b:\n",
    "        print(c,\"is the greatest number\")\n",
    "    else:\n",
    "        print(b,\"is the greatest number\")\n",
    "\n",
    "\n",
    "\n",
    "\n",
    "\n"
   ]
  },
  {
   "cell_type": "code",
   "execution_count": 5,
   "id": "8041488c-5074-4ff8-b628-3c2ecb4c3f69",
   "metadata": {},
   "outputs": [
    {
     "name": "stdin",
     "output_type": "stream",
     "text": [
      "Enter 1st integer:  4\n",
      "Enter 2nd integer:  5\n",
      "Enter 3rd integer:  4\n"
     ]
    },
    {
     "name": "stdout",
     "output_type": "stream",
     "text": [
      "5 is the greatest number\n"
     ]
    }
   ],
   "source": [
    "#Easier way of doing Largest Number\n",
    "\n",
    "a= int(input(\"Enter 1st integer: \"))\n",
    "b= int(input(\"Enter 2nd integer: \"))\n",
    "c= int(input(\"Enter 3rd integer: \"))\n",
    "\n",
    "if a>=b and a>=c:\n",
    "    print(a,\"is the greatest number\")\n",
    "elif b>=a and b>=c:\n",
    "    print(b,\"is the greatest number\")\n",
    "\n",
    "elif c>=b and c>=a:\n",
    "    print(c,\"is the greatest number\")\n",
    "\n",
    "\n",
    "\n"
   ]
  },
  {
   "cell_type": "code",
   "execution_count": 12,
   "id": "329db6aa-7602-4df5-ba75-151aaf86aa9a",
   "metadata": {},
   "outputs": [
    {
     "name": "stdin",
     "output_type": "stream",
     "text": [
      "Enter today's temperature:  56\n"
     ]
    },
    {
     "name": "stdout",
     "output_type": "stream",
     "text": [
      "Hot\n"
     ]
    }
   ],
   "source": [
    "#Temperature Check\n",
    "temp= int(input(\"Enter today's temperature: \"))\n",
    "if temp>=30:\n",
    "    print(\"Hot\")\n",
    "\n",
    "elif temp>=20:\n",
    "    print(\"Warm\")\n",
    "\n",
    "elif temp >= 0:\n",
    "    print(\"Cold\")\n",
    "\n",
    "else:\n",
    "    print(\"Freezing\")"
   ]
  },
  {
   "cell_type": "code",
   "execution_count": 1,
   "id": "d60f079b-ea48-43f7-92ef-e71c0bbe1783",
   "metadata": {},
   "outputs": [
    {
     "name": "stdin",
     "output_type": "stream",
     "text": [
      "Enter a number:  4\n"
     ]
    },
    {
     "name": "stdout",
     "output_type": "stream",
     "text": [
      "Even\n"
     ]
    }
   ],
   "source": [
    "#Odd or Even\n",
    "no= int(input(\"Enter a number: \"))\n",
    "if no%2 ==0:\n",
    "    print(\"Even\")\n",
    "\n",
    "else:\n",
    "    print(\"Odd\")\n",
    "\n",
    "    \n",
    "    "
   ]
  },
  {
   "cell_type": "code",
   "execution_count": 4,
   "id": "c73b635e-d5d5-4ffe-9a4e-4487690b9a7d",
   "metadata": {},
   "outputs": [
    {
     "name": "stdin",
     "output_type": "stream",
     "text": [
      "Enter marks:  44\n"
     ]
    },
    {
     "name": "stdout",
     "output_type": "stream",
     "text": [
      "Pass\n"
     ]
    }
   ],
   "source": [
    "#Pass or Fail\n",
    "\n",
    "marks= int(input(\"Enter marks: \"))\n",
    "\n",
    "if marks>=40:\n",
    "    print(\"Pass\")\n",
    "else: \n",
    "    print(\"False\")\n",
    "    "
   ]
  },
  {
   "cell_type": "code",
   "execution_count": 5,
   "id": "54d843e8-42f1-4e5b-8c34-f0abde938734",
   "metadata": {},
   "outputs": [
    {
     "name": "stdin",
     "output_type": "stream",
     "text": [
      "Enter your age: 12\n",
      "Enter your nationality:  indian\n"
     ]
    },
    {
     "name": "stdout",
     "output_type": "stream",
     "text": [
      "Not eligible to vote\n"
     ]
    }
   ],
   "source": [
    "#Age and Nationality Check\n",
    "\n",
    "age= int(input(\"Enter your age:\" ))\n",
    "nation= input(\"Enter your nationality: \")\n",
    "\n",
    "if age >=18 and nation.lower() ==\"indian\":\n",
    "    print(\"Eligible to Vote\")\n",
    "\n",
    "else:\n",
    "    print(\"Not eligible to vote\")"
   ]
  },
  {
   "cell_type": "code",
   "execution_count": 9,
   "id": "193a9c55-affb-401e-8233-ff67cda7d8ea",
   "metadata": {},
   "outputs": [
    {
     "name": "stdin",
     "output_type": "stream",
     "text": [
      "Do you have membership card? (y/n):  y\n",
      "Enter the bill amount:  55\n"
     ]
    },
    {
     "name": "stdout",
     "output_type": "stream",
     "text": [
      "Eligible for Discount\n"
     ]
    }
   ],
   "source": [
    "#Discount Eligibility\n",
    "\n",
    "member= input(\"Do you have membership card? (y/n): \")\n",
    "bill = int(input(\"Enter the bill amount: \"))\n",
    "\n",
    "if member == \"y\" or bill>=500:\n",
    "    print(\"Eligible for Discount\")\n",
    "else:\n",
    "    print(\"No discount\")\n",
    "    "
   ]
  },
  {
   "cell_type": "code",
   "execution_count": 11,
   "id": "c3d8e24e-12e6-40f2-accc-4f73667f50e7",
   "metadata": {},
   "outputs": [
    {
     "name": "stdin",
     "output_type": "stream",
     "text": [
      "Have you paid fees? (y/n):  y\n"
     ]
    },
    {
     "name": "stdout",
     "output_type": "stream",
     "text": [
      "Access Granted\n"
     ]
    }
   ],
   "source": [
    "#Fee Status\n",
    "fee= input(\"Have you paid fees? (y/n): \")\n",
    "\n",
    "if fee ==\"y\": \n",
    "    print(\"Access Granted\")\n",
    "\n",
    "else:\n",
    "    print(\"Access Denied\")"
   ]
  },
  {
   "cell_type": "code",
   "execution_count": 3,
   "id": "d25dcc8d-9509-4d4c-b3b6-9d59a039ae25",
   "metadata": {},
   "outputs": [
    {
     "name": "stdin",
     "output_type": "stream",
     "text": [
      "Enter your age:  33\n",
      "Do you have a driving license (y/n)? :  y\n"
     ]
    },
    {
     "name": "stdout",
     "output_type": "stream",
     "text": [
      "You can drive\n"
     ]
    }
   ],
   "source": [
    "#Age and License Check\n",
    "\n",
    "age= int(input(\"Enter your age: \"))\n",
    "\n",
    "if age>=18:\n",
    "    driver= input(\"Do you have a driving license (y/n)? : \")\n",
    "    if driver == \"y\":\n",
    "        print(\"You can drive\")\n",
    "    else:\n",
    "        print(\"Get a license first\")\n",
    "\n",
    "else:\n",
    "    print(\"Too young to drive\")\n",
    "    \n",
    "\n"
   ]
  },
  {
   "cell_type": "code",
   "execution_count": 7,
   "id": "5a98033e-35e2-4a82-ac7c-427cb9550827",
   "metadata": {},
   "outputs": [
    {
     "name": "stdin",
     "output_type": "stream",
     "text": [
      "Enter your marks:  99\n"
     ]
    },
    {
     "name": "stdout",
     "output_type": "stream",
     "text": [
      "Pass with distinction\n"
     ]
    }
   ],
   "source": [
    "#Exam result checker\n",
    "marks= int(input(\"Enter your marks: \"))\n",
    "\n",
    "if marks>=33:\n",
    "    if marks>=75:\n",
    "        print(\"Pass with distinction\")\n",
    "    else:\n",
    "        print(\"Pass\")\n",
    "else:\n",
    "    print(\"Fail\")\n",
    "        "
   ]
  },
  {
   "cell_type": "code",
   "execution_count": 9,
   "id": "193d61cb-fc73-47fe-9733-203553be547a",
   "metadata": {},
   "outputs": [
    {
     "name": "stdin",
     "output_type": "stream",
     "text": [
      "Enter any integer:  56\n"
     ]
    },
    {
     "name": "stdout",
     "output_type": "stream",
     "text": [
      "Positive Even\n"
     ]
    }
   ],
   "source": [
    "#Number type Checker\n",
    "\n",
    "n= int(input(\"Enter any integer: \"))\n",
    "if n>0:\n",
    "    if n%2 ==0:\n",
    "        print(\"Positive Even\")\n",
    "    else:\n",
    "        print(\"Positive Odd\")\n",
    "\n",
    "elif n==0:\n",
    "    print(\"Zero\")\n",
    "else:\n",
    "    print(\"Negative\")"
   ]
  },
  {
   "cell_type": "code",
   "execution_count": 11,
   "id": "b92457a6-54a4-4a01-bdc1-ad0767e219ee",
   "metadata": {},
   "outputs": [
    {
     "name": "stdin",
     "output_type": "stream",
     "text": [
      "Enter your bill amount:  44\n"
     ]
    },
    {
     "name": "stdout",
     "output_type": "stream",
     "text": [
      "No discount\n"
     ]
    }
   ],
   "source": [
    "#Discount eligibility\n",
    "\n",
    "bill= int(input(\"Enter your bill amount: \"))\n",
    "\n",
    "if bill >=500:\n",
    "    if bill >=1000:\n",
    "        print(\"20% discount\")\n",
    "    else:\n",
    "        print(\"10% discount\")\n",
    "else:\n",
    "    print(\"No discount\")"
   ]
  },
  {
   "cell_type": "code",
   "execution_count": null,
   "id": "5dfbdd02-0d6c-428b-bbed-df4f33199e8d",
   "metadata": {},
   "outputs": [],
   "source": []
  }
 ],
 "metadata": {
  "kernelspec": {
   "display_name": "Python 3 (ipykernel)",
   "language": "python",
   "name": "python3"
  },
  "language_info": {
   "codemirror_mode": {
    "name": "ipython",
    "version": 3
   },
   "file_extension": ".py",
   "mimetype": "text/x-python",
   "name": "python",
   "nbconvert_exporter": "python",
   "pygments_lexer": "ipython3",
   "version": "3.13.7"
  }
 },
 "nbformat": 4,
 "nbformat_minor": 5
}
