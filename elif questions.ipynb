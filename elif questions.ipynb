{
 "cells": [
  {
   "cell_type": "code",
   "execution_count": 11,
   "id": "c46f9760-6151-4eb7-ba2d-ec692f699134",
   "metadata": {},
   "outputs": [
    {
     "name": "stdin",
     "output_type": "stream",
     "text": [
      "Enter your marks:  99\n"
     ]
    },
    {
     "name": "stdout",
     "output_type": "stream",
     "text": [
      "A\n"
     ]
    }
   ],
   "source": [
    "#Grading System\n",
    "\n",
    "m= int(input(\"Enter your marks: \"))\n",
    "\n",
    "if m >=90:\n",
    "    print(\"A\")\n",
    "\n",
    "elif m >=75 and m<90:\n",
    "    print(\"B\")\n",
    "\n",
    "elif m>= 50 and m<75:\n",
    "    print(\"C\")\n",
    "\n",
    "elif m<50:\n",
    "    print(\"D\")\n",
    "    "
   ]
  },
  {
   "cell_type": "code",
   "execution_count": 5,
   "id": "3c9c9299-8a33-4e83-aed2-c2a387a48a0d",
   "metadata": {},
   "outputs": [
    {
     "name": "stdin",
     "output_type": "stream",
     "text": [
      "Enter an integer:  -9\n"
     ]
    },
    {
     "name": "stdout",
     "output_type": "stream",
     "text": [
      "Negative\n"
     ]
    }
   ],
   "source": [
    "#Number sign check\n",
    "\n",
    "x= int(input(\"Enter an integer: \"))\n",
    "\n",
    "if x>0:\n",
    "    print(\"Positive\")\n",
    "elif x <0:\n",
    "    print(\"Negative\")\n",
    "else:\n",
    "    print(\"Zero\")"
   ]
  },
  {
   "cell_type": "code",
   "execution_count": 7,
   "id": "d0a3942e-f6f1-4995-956d-49f36310b861",
   "metadata": {},
   "outputs": [
    {
     "name": "stdin",
     "output_type": "stream",
     "text": [
      "Enter a number between 1-7:  4\n"
     ]
    },
    {
     "name": "stdout",
     "output_type": "stream",
     "text": [
      "Thursday\n"
     ]
    }
   ],
   "source": [
    "#Day of the week\n",
    "\n",
    "w= int(input(\"Enter a number between 1-7: \"))\n",
    "\n",
    "if w==1:\n",
    "    print(\"Monday\")\n",
    "\n",
    "elif w==2:\n",
    "    print(\"Tuesday\")\n",
    "\n",
    "elif w==3:\n",
    "    print(\"Wednesday\")\n",
    "\n",
    "elif w==4:\n",
    "    print(\"Thursday\")\n",
    "\n",
    "elif w==5:\n",
    "    print(\"Friday\")\n",
    "\n",
    "elif w==6:\n",
    "    print(\"Saturday\")\n",
    "\n",
    "elif w==7:\n",
    "    print(\"Sunday\")\n",
    "else:\n",
    "    print(\"Oops! Wrong number entered.\")\n",
    "\n",
    "    "
   ]
  },
  {
   "cell_type": "code",
   "execution_count": 1,
   "id": "e68f6bc8-877b-481c-bf8f-63ebcc59526f",
   "metadata": {},
   "outputs": [
    {
     "name": "stdin",
     "output_type": "stream",
     "text": [
      "Enter your age:  34\n"
     ]
    },
    {
     "name": "stdout",
     "output_type": "stream",
     "text": [
      "Price=250\n"
     ]
    }
   ],
   "source": [
    "#Ticket Price Based on Age\n",
    "\n",
    "age= int(input(\"Enter your age: \"))\n",
    "\n",
    "if age>=60:\n",
    "    print(\"Price=120\")\n",
    "elif age >=18:\n",
    "    print(\"Price=250\")\n",
    "elif age>=12:\n",
    "    print(\"Price=150\")\n",
    "else:\n",
    "    print(\"Price=100\")\n",
    "\n",
    "    "
   ]
  },
  {
   "cell_type": "code",
   "execution_count": 3,
   "id": "caeab254-46f3-4e3e-8a99-439de55ee3fc",
   "metadata": {},
   "outputs": [
    {
     "name": "stdin",
     "output_type": "stream",
     "text": [
      "Enter an integer:  4\n",
      "Enter another integer:  7\n",
      "Enter an operator(+,-,*,/):  +\n"
     ]
    },
    {
     "name": "stdout",
     "output_type": "stream",
     "text": [
      "11\n"
     ]
    }
   ],
   "source": [
    "#Calculator with 4 operations\n",
    "\n",
    "no1=int(input(\"Enter an integer: \"))\n",
    "no2= int(input(\"Enter another integer: \"))\n",
    "op= input(\"Enter an operator(+,-,*,/): \")\n",
    "\n",
    "if op== \"+\":\n",
    "    print(no1+no2)\n",
    "\n",
    "elif op== \"-\":\n",
    "    print(no1-no2)\n",
    "elif op ==\"*\":\n",
    "    print(no1*no2)\n",
    "\n",
    "elif op==\"/\":\n",
    "    print(no1/no2)\n",
    "\n",
    "else:\n",
    "    print(\"Oops!Wrong input.\")"
   ]
  },
  {
   "cell_type": "code",
   "execution_count": 9,
   "id": "195130af-3f7f-4087-aa79-97fdaaf199d4",
   "metadata": {},
   "outputs": [
    {
     "name": "stdin",
     "output_type": "stream",
     "text": [
      "Enter a color from following(Red/Yellow/Green):  red\n"
     ]
    },
    {
     "name": "stdout",
     "output_type": "stream",
     "text": [
      "STOP!\n"
     ]
    }
   ],
   "source": [
    "#Traffic Light System\n",
    "\n",
    "c= input(\"Enter a color from following(Red/Yellow/Green): \")\n",
    "\n",
    "if c.lower() ==\"red\":\n",
    "    print(\"STOP!\")\n",
    "\n",
    "elif c.lower() ==\"yellow\":\n",
    "    print(\"Get ready\")\n",
    "\n",
    "elif c.lower() ==\"green\":\n",
    "    print(\"GO!\")\n",
    "    "
   ]
  },
  {
   "cell_type": "code",
   "execution_count": 14,
   "id": "52e9adba-9502-4158-b129-e8109fddbd35",
   "metadata": {},
   "outputs": [
    {
     "name": "stdin",
     "output_type": "stream",
     "text": [
      "Enter 1st integer:  45\n",
      "Enter 2nd integer:  45\n",
      "Enter 3rd integer:  45\n"
     ]
    },
    {
     "name": "stdout",
     "output_type": "stream",
     "text": [
      "45 is the greatest number\n"
     ]
    }
   ],
   "source": [
    "#Largest Number\n",
    "\n",
    "a= int(input(\"Enter 1st integer: \"))\n",
    "b= int(input(\"Enter 2nd integer: \"))\n",
    "c= int(input(\"Enter 3rd integer: \"))\n",
    "\n",
    "if a>b:\n",
    "    if c>a:\n",
    "        print(c,\"is the greatest number\")\n",
    "    else:\n",
    "        print(a,\"is the greatest number\")\n",
    "\n",
    "else:\n",
    "    if c>b:\n",
    "        print(c,\"is the greatest number\")\n",
    "    else:\n",
    "        print(b,\"is the greatest number\")\n",
    "\n",
    "\n",
    "\n",
    "\n",
    "\n"
   ]
  },
  {
   "cell_type": "code",
   "execution_count": 12,
   "id": "329db6aa-7602-4df5-ba75-151aaf86aa9a",
   "metadata": {},
   "outputs": [
    {
     "name": "stdin",
     "output_type": "stream",
     "text": [
      "Enter today's temperature:  56\n"
     ]
    },
    {
     "name": "stdout",
     "output_type": "stream",
     "text": [
      "Hot\n"
     ]
    }
   ],
   "source": [
    "#Temperature Check\n",
    "temp= int(input(\"Enter today's temperature: \"))\n",
    "if temp>=30:\n",
    "    print(\"Hot\")\n",
    "\n",
    "elif temp>=20:\n",
    "    print(\"Warm\")\n",
    "\n",
    "elif temp >= 0:\n",
    "    print(\"Cold\")\n",
    "\n",
    "else:\n",
    "    print(\"Freezing\")"
   ]
  },
  {
   "cell_type": "code",
   "execution_count": null,
   "id": "d60f079b-ea48-43f7-92ef-e71c0bbe1783",
   "metadata": {},
   "outputs": [],
   "source": []
  }
 ],
 "metadata": {
  "kernelspec": {
   "display_name": "Python 3 (ipykernel)",
   "language": "python",
   "name": "python3"
  },
  "language_info": {
   "codemirror_mode": {
    "name": "ipython",
    "version": 3
   },
   "file_extension": ".py",
   "mimetype": "text/x-python",
   "name": "python",
   "nbconvert_exporter": "python",
   "pygments_lexer": "ipython3",
   "version": "3.13.7"
  }
 },
 "nbformat": 4,
 "nbformat_minor": 5
}
